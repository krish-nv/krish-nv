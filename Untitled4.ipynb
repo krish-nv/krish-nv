{
  "nbformat": 4,
  "nbformat_minor": 0,
  "metadata": {
    "colab": {
      "provenance": [],
      "include_colab_link": true
    },
    "kernelspec": {
      "name": "python3",
      "display_name": "Python 3"
    },
    "language_info": {
      "name": "python"
    }
  },
  "cells": [
    {
      "cell_type": "markdown",
      "metadata": {
        "id": "view-in-github",
        "colab_type": "text"
      },
      "source": [
        "<a href=\"https://colab.research.google.com/github/krish-nv/krish-nv/blob/main/Untitled4.ipynb\" target=\"_parent\"><img src=\"https://colab.research.google.com/assets/colab-badge.svg\" alt=\"Open In Colab\"/></a>"
      ]
    },
    {
      "cell_type": "code",
      "execution_count": null,
      "metadata": {
        "id": "mkmOkCxEYeca",
        "colab": {
          "base_uri": "https://localhost:8080/"
        },
        "outputId": "c0b0c83f-6f39-4359-b7c0-e4d20d5bd787"
      },
      "outputs": [
        {
          "output_type": "stream",
          "name": "stdout",
          "text": [
            "0.0\n",
            "4.88535225614967\n",
            "5.656854249492381\n"
          ]
        }
      ],
      "source": [
        "\n",
        "# Integrantes: Krishna Valenzuela - Victoria Torrealba.\n",
        "# Curso: 3-D\n",
        "# Fecha: 24/09/2024\n",
        "# Asignatura: Programación y base de datos.\n",
        "\n",
        "#Aqui usamos una función para calcular la desviacion estandar\n",
        "#Que recibira como argumento una lista de valores.\n",
        "def desviacionEstandar(valores):\n",
        "#Aqui calculamos el promedio de los valores sumando todos los elementos y\n",
        "#luego lo dividimos por la cantidad de elementos.\n",
        "    promedio = sum(valores) / len(valores)\n",
        "\n",
        "#Aqui creamos una lista vacia para almacenar los valores de las diferencias al cuadrado.\n",
        "    diferencias_cuadradas = []\n",
        "\n",
        "#Aqui creamos un ciclo que recorre cada valor en la lista.\n",
        "    for x in valores:\n",
        "#Calculamos la diferencia entre ese valor y el promedio de los valores.\n",
        "        diferencia = x - promedio\n",
        "#Luego esto se eleva al cuadrado y agregamos un elemento final a la lista.\n",
        "        diferencias_cuadradas.append(diferencia ** 2)\n",
        "\n",
        "#Sumamos todos los elementos en la lista de diferencias_cuadradas para\n",
        "#asi obtener la suma total.\n",
        "    suma_diferencias_cuadradas = sum(diferencias_cuadradas)\n",
        "\n",
        "#se divide la suma de las diferencias cuadradas entre el numero de valores,\n",
        "#luego obtenemos la raiz del resultado para calcularla desviación estandar.\n",
        "    desviacion = (suma_diferencias_cuadradas / (len(valores) - 1)) ** 0.5\n",
        "#Devolvemos la desviación estándar calculada y la guarda en el programa.\n",
        "    return desviacion\n",
        "\n",
        "#Imprimimos la función y probamos con diferentes conjuntos de valores.\n",
        "print(desviacionEstandar([1.3, 1.3, 1.3]))\n",
        "print(desviacionEstandar([4.0, 1.0, 11.0, 13.0, 2.0, 7.0]))\n",
        "print(desviacionEstandar([1.5, 9.5]))\n",
        "\n",
        "\n",
        "\n"
      ]
    }
  ]
}